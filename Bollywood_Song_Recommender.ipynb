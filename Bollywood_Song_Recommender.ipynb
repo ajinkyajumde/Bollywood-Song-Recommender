{
  "nbformat": 4,
  "nbformat_minor": 0,
  "metadata": {
    "colab": {
      "name": "Bollywood Song Recommender.ipynb",
      "provenance": [],
      "collapsed_sections": [],
      "mount_file_id": "1l0Wu3c9olHhOJIv-wZXieyt_KfS69SQt",
      "authorship_tag": "ABX9TyMUYM/9s9hXnqm4H3EbiZv0",
      "include_colab_link": true
    },
    "kernelspec": {
      "name": "python3",
      "display_name": "Python 3"
    },
    "language_info": {
      "name": "python"
    }
  },
  "cells": [
    {
      "cell_type": "markdown",
      "metadata": {
        "id": "view-in-github",
        "colab_type": "text"
      },
      "source": [
        "<a href=\"https://colab.research.google.com/github/ajinkyajumde/Bollywood-Song-Recommender/blob/main/Bollywood_Song_Recommender.ipynb\" target=\"_parent\"><img src=\"https://colab.research.google.com/assets/colab-badge.svg\" alt=\"Open In Colab\"/></a>"
      ]
    },
    {
      "cell_type": "code",
      "execution_count": 988,
      "metadata": {
        "id": "CkgIdc1qw5r9"
      },
      "outputs": [],
      "source": [
        "import pandas as pd\n",
        "import numpy as np"
      ]
    },
    {
      "cell_type": "code",
      "source": [
        "from google.colab import drive\n",
        "drive.mount('/content/drive')"
      ],
      "metadata": {
        "colab": {
          "base_uri": "https://localhost:8080/"
        },
        "id": "VK_FgogjxAJ7",
        "outputId": "55b24609-9f12-4a0d-9a0e-12ddd5f3e7c5"
      },
      "execution_count": 989,
      "outputs": [
        {
          "output_type": "stream",
          "name": "stdout",
          "text": [
            "Drive already mounted at /content/drive; to attempt to forcibly remount, call drive.mount(\"/content/drive\", force_remount=True).\n"
          ]
        }
      ]
    },
    {
      "cell_type": "code",
      "source": [
        "path='/content/drive/MyDrive/Almabetter projects/SONG RECCOMENDER/ex.csv'\n",
        "df=pd.read_csv(path,encoding='latin1')"
      ],
      "metadata": {
        "id": "GIB0OHFtxCQ5"
      },
      "execution_count": 990,
      "outputs": []
    },
    {
      "cell_type": "code",
      "source": [
        "df.head()"
      ],
      "metadata": {
        "colab": {
          "base_uri": "https://localhost:8080/",
          "height": 206
        },
        "id": "KUr2L_0Kxo48",
        "outputId": "209fd703-d850-44e6-ee51-30f53dc77b94"
      },
      "execution_count": 991,
      "outputs": [
        {
          "output_type": "execute_result",
          "data": {
            "text/plain": [
              "          Song-Name                                    Singer/Artists  \\\n",
              "1       Aankh Marey               Kumar Sanu, Mika Singh, Neha Kakkar   \n",
              "2         Coca Cola                          Neha Kakkar, Tony Kakkar   \n",
              "3  Apna Time Aayega                                     Ranveer Singh   \n",
              "4            Mungda             Jyotica Tangri, Shaan, Subhro Ganguly   \n",
              "5          Tere Bin  Asees Kaur, Rahat Fateh Ali Khan, Tanishk Bagchi   \n",
              "\n",
              "                    Genre    Album/Movie User-Rating  \n",
              "1          BollywoodDance         Simmba      8.8/10  \n",
              "2  BollywoodDanceRomantic    Luka Chuppi      9.0/10  \n",
              "3          BollywoodDance      Gully Boy      9.7/10  \n",
              "4          BollywoodDance  Total Dhamaal      9.1/10  \n",
              "5       BollywoodRomantic         Simmba      9.2/10  "
            ],
            "text/html": [
              "\n",
              "  <div id=\"df-504e68b0-17df-448f-9fbe-f64a7d1eaeec\">\n",
              "    <div class=\"colab-df-container\">\n",
              "      <div>\n",
              "<style scoped>\n",
              "    .dataframe tbody tr th:only-of-type {\n",
              "        vertical-align: middle;\n",
              "    }\n",
              "\n",
              "    .dataframe tbody tr th {\n",
              "        vertical-align: top;\n",
              "    }\n",
              "\n",
              "    .dataframe thead th {\n",
              "        text-align: right;\n",
              "    }\n",
              "</style>\n",
              "<table border=\"1\" class=\"dataframe\">\n",
              "  <thead>\n",
              "    <tr style=\"text-align: right;\">\n",
              "      <th></th>\n",
              "      <th>Song-Name</th>\n",
              "      <th>Singer/Artists</th>\n",
              "      <th>Genre</th>\n",
              "      <th>Album/Movie</th>\n",
              "      <th>User-Rating</th>\n",
              "    </tr>\n",
              "  </thead>\n",
              "  <tbody>\n",
              "    <tr>\n",
              "      <th>1</th>\n",
              "      <td>Aankh Marey</td>\n",
              "      <td>Kumar Sanu, Mika Singh, Neha Kakkar</td>\n",
              "      <td>BollywoodDance</td>\n",
              "      <td>Simmba</td>\n",
              "      <td>8.8/10</td>\n",
              "    </tr>\n",
              "    <tr>\n",
              "      <th>2</th>\n",
              "      <td>Coca Cola</td>\n",
              "      <td>Neha Kakkar, Tony Kakkar</td>\n",
              "      <td>BollywoodDanceRomantic</td>\n",
              "      <td>Luka Chuppi</td>\n",
              "      <td>9.0/10</td>\n",
              "    </tr>\n",
              "    <tr>\n",
              "      <th>3</th>\n",
              "      <td>Apna Time Aayega</td>\n",
              "      <td>Ranveer Singh</td>\n",
              "      <td>BollywoodDance</td>\n",
              "      <td>Gully Boy</td>\n",
              "      <td>9.7/10</td>\n",
              "    </tr>\n",
              "    <tr>\n",
              "      <th>4</th>\n",
              "      <td>Mungda</td>\n",
              "      <td>Jyotica Tangri, Shaan, Subhro Ganguly</td>\n",
              "      <td>BollywoodDance</td>\n",
              "      <td>Total Dhamaal</td>\n",
              "      <td>9.1/10</td>\n",
              "    </tr>\n",
              "    <tr>\n",
              "      <th>5</th>\n",
              "      <td>Tere Bin</td>\n",
              "      <td>Asees Kaur, Rahat Fateh Ali Khan, Tanishk Bagchi</td>\n",
              "      <td>BollywoodRomantic</td>\n",
              "      <td>Simmba</td>\n",
              "      <td>9.2/10</td>\n",
              "    </tr>\n",
              "  </tbody>\n",
              "</table>\n",
              "</div>\n",
              "      <button class=\"colab-df-convert\" onclick=\"convertToInteractive('df-504e68b0-17df-448f-9fbe-f64a7d1eaeec')\"\n",
              "              title=\"Convert this dataframe to an interactive table.\"\n",
              "              style=\"display:none;\">\n",
              "        \n",
              "  <svg xmlns=\"http://www.w3.org/2000/svg\" height=\"24px\"viewBox=\"0 0 24 24\"\n",
              "       width=\"24px\">\n",
              "    <path d=\"M0 0h24v24H0V0z\" fill=\"none\"/>\n",
              "    <path d=\"M18.56 5.44l.94 2.06.94-2.06 2.06-.94-2.06-.94-.94-2.06-.94 2.06-2.06.94zm-11 1L8.5 8.5l.94-2.06 2.06-.94-2.06-.94L8.5 2.5l-.94 2.06-2.06.94zm10 10l.94 2.06.94-2.06 2.06-.94-2.06-.94-.94-2.06-.94 2.06-2.06.94z\"/><path d=\"M17.41 7.96l-1.37-1.37c-.4-.4-.92-.59-1.43-.59-.52 0-1.04.2-1.43.59L10.3 9.45l-7.72 7.72c-.78.78-.78 2.05 0 2.83L4 21.41c.39.39.9.59 1.41.59.51 0 1.02-.2 1.41-.59l7.78-7.78 2.81-2.81c.8-.78.8-2.07 0-2.86zM5.41 20L4 18.59l7.72-7.72 1.47 1.35L5.41 20z\"/>\n",
              "  </svg>\n",
              "      </button>\n",
              "      \n",
              "  <style>\n",
              "    .colab-df-container {\n",
              "      display:flex;\n",
              "      flex-wrap:wrap;\n",
              "      gap: 12px;\n",
              "    }\n",
              "\n",
              "    .colab-df-convert {\n",
              "      background-color: #E8F0FE;\n",
              "      border: none;\n",
              "      border-radius: 50%;\n",
              "      cursor: pointer;\n",
              "      display: none;\n",
              "      fill: #1967D2;\n",
              "      height: 32px;\n",
              "      padding: 0 0 0 0;\n",
              "      width: 32px;\n",
              "    }\n",
              "\n",
              "    .colab-df-convert:hover {\n",
              "      background-color: #E2EBFA;\n",
              "      box-shadow: 0px 1px 2px rgba(60, 64, 67, 0.3), 0px 1px 3px 1px rgba(60, 64, 67, 0.15);\n",
              "      fill: #174EA6;\n",
              "    }\n",
              "\n",
              "    [theme=dark] .colab-df-convert {\n",
              "      background-color: #3B4455;\n",
              "      fill: #D2E3FC;\n",
              "    }\n",
              "\n",
              "    [theme=dark] .colab-df-convert:hover {\n",
              "      background-color: #434B5C;\n",
              "      box-shadow: 0px 1px 3px 1px rgba(0, 0, 0, 0.15);\n",
              "      filter: drop-shadow(0px 1px 2px rgba(0, 0, 0, 0.3));\n",
              "      fill: #FFFFFF;\n",
              "    }\n",
              "  </style>\n",
              "\n",
              "      <script>\n",
              "        const buttonEl =\n",
              "          document.querySelector('#df-504e68b0-17df-448f-9fbe-f64a7d1eaeec button.colab-df-convert');\n",
              "        buttonEl.style.display =\n",
              "          google.colab.kernel.accessAllowed ? 'block' : 'none';\n",
              "\n",
              "        async function convertToInteractive(key) {\n",
              "          const element = document.querySelector('#df-504e68b0-17df-448f-9fbe-f64a7d1eaeec');\n",
              "          const dataTable =\n",
              "            await google.colab.kernel.invokeFunction('convertToInteractive',\n",
              "                                                     [key], {});\n",
              "          if (!dataTable) return;\n",
              "\n",
              "          const docLinkHtml = 'Like what you see? Visit the ' +\n",
              "            '<a target=\"_blank\" href=https://colab.research.google.com/notebooks/data_table.ipynb>data table notebook</a>'\n",
              "            + ' to learn more about interactive tables.';\n",
              "          element.innerHTML = '';\n",
              "          dataTable['output_type'] = 'display_data';\n",
              "          await google.colab.output.renderOutput(dataTable, element);\n",
              "          const docLink = document.createElement('div');\n",
              "          docLink.innerHTML = docLinkHtml;\n",
              "          element.appendChild(docLink);\n",
              "        }\n",
              "      </script>\n",
              "    </div>\n",
              "  </div>\n",
              "  "
            ]
          },
          "metadata": {},
          "execution_count": 991
        }
      ]
    },
    {
      "cell_type": "code",
      "source": [
        "df.tail()"
      ],
      "metadata": {
        "colab": {
          "base_uri": "https://localhost:8080/",
          "height": 206
        },
        "id": "98l6l2G9xr3S",
        "outputId": "4d8226ca-e017-40f2-8cd8-a03e8b18236e"
      },
      "execution_count": 992,
      "outputs": [
        {
          "output_type": "execute_result",
          "data": {
            "text/plain": [
              "                               Song-Name                  Singer/Artists  \\\n",
              "2416              Jana Tumhare Pyar Mein                          Mukesh   \n",
              "2417             Tum Jaise Bigde Babu Se                 Lata Mangeshkar   \n",
              "2418              O Yaad Nahi Bhool Gaya  Lata Mangeshkar, Suresh Wadkar   \n",
              "2419   Ladi Re Ladi Tujhse Aankh Jo Ladi                     Jagjit Kaur   \n",
              "2420  Mummy Aur Daddy Mein Ladai Ho Gayi                     Asha Bhosle   \n",
              "\n",
              "               Genre                Album/Movie User-Rating  \n",
              "2416  BollywoodDance                    Sasural      10-Oct  \n",
              "2417  BollywoodDance  Jab Pyar Kisi Se Hota Hai      10-Oct  \n",
              "2418  BollywoodDance                      Lamhe      10-Oct  \n",
              "2419  BollywoodDance          Shola Aur Shabnam      10-Oct  \n",
              "2420  BollywoodDance          Shola Aur Shabnam      6.6/10  "
            ],
            "text/html": [
              "\n",
              "  <div id=\"df-3ad3eaf2-5d81-4755-82b8-d357b5bdb66b\">\n",
              "    <div class=\"colab-df-container\">\n",
              "      <div>\n",
              "<style scoped>\n",
              "    .dataframe tbody tr th:only-of-type {\n",
              "        vertical-align: middle;\n",
              "    }\n",
              "\n",
              "    .dataframe tbody tr th {\n",
              "        vertical-align: top;\n",
              "    }\n",
              "\n",
              "    .dataframe thead th {\n",
              "        text-align: right;\n",
              "    }\n",
              "</style>\n",
              "<table border=\"1\" class=\"dataframe\">\n",
              "  <thead>\n",
              "    <tr style=\"text-align: right;\">\n",
              "      <th></th>\n",
              "      <th>Song-Name</th>\n",
              "      <th>Singer/Artists</th>\n",
              "      <th>Genre</th>\n",
              "      <th>Album/Movie</th>\n",
              "      <th>User-Rating</th>\n",
              "    </tr>\n",
              "  </thead>\n",
              "  <tbody>\n",
              "    <tr>\n",
              "      <th>2416</th>\n",
              "      <td>Jana Tumhare Pyar Mein</td>\n",
              "      <td>Mukesh</td>\n",
              "      <td>BollywoodDance</td>\n",
              "      <td>Sasural</td>\n",
              "      <td>10-Oct</td>\n",
              "    </tr>\n",
              "    <tr>\n",
              "      <th>2417</th>\n",
              "      <td>Tum Jaise Bigde Babu Se</td>\n",
              "      <td>Lata Mangeshkar</td>\n",
              "      <td>BollywoodDance</td>\n",
              "      <td>Jab Pyar Kisi Se Hota Hai</td>\n",
              "      <td>10-Oct</td>\n",
              "    </tr>\n",
              "    <tr>\n",
              "      <th>2418</th>\n",
              "      <td>O Yaad Nahi Bhool Gaya</td>\n",
              "      <td>Lata Mangeshkar, Suresh Wadkar</td>\n",
              "      <td>BollywoodDance</td>\n",
              "      <td>Lamhe</td>\n",
              "      <td>10-Oct</td>\n",
              "    </tr>\n",
              "    <tr>\n",
              "      <th>2419</th>\n",
              "      <td>Ladi Re Ladi Tujhse Aankh Jo Ladi</td>\n",
              "      <td>Jagjit Kaur</td>\n",
              "      <td>BollywoodDance</td>\n",
              "      <td>Shola Aur Shabnam</td>\n",
              "      <td>10-Oct</td>\n",
              "    </tr>\n",
              "    <tr>\n",
              "      <th>2420</th>\n",
              "      <td>Mummy Aur Daddy Mein Ladai Ho Gayi</td>\n",
              "      <td>Asha Bhosle</td>\n",
              "      <td>BollywoodDance</td>\n",
              "      <td>Shola Aur Shabnam</td>\n",
              "      <td>6.6/10</td>\n",
              "    </tr>\n",
              "  </tbody>\n",
              "</table>\n",
              "</div>\n",
              "      <button class=\"colab-df-convert\" onclick=\"convertToInteractive('df-3ad3eaf2-5d81-4755-82b8-d357b5bdb66b')\"\n",
              "              title=\"Convert this dataframe to an interactive table.\"\n",
              "              style=\"display:none;\">\n",
              "        \n",
              "  <svg xmlns=\"http://www.w3.org/2000/svg\" height=\"24px\"viewBox=\"0 0 24 24\"\n",
              "       width=\"24px\">\n",
              "    <path d=\"M0 0h24v24H0V0z\" fill=\"none\"/>\n",
              "    <path d=\"M18.56 5.44l.94 2.06.94-2.06 2.06-.94-2.06-.94-.94-2.06-.94 2.06-2.06.94zm-11 1L8.5 8.5l.94-2.06 2.06-.94-2.06-.94L8.5 2.5l-.94 2.06-2.06.94zm10 10l.94 2.06.94-2.06 2.06-.94-2.06-.94-.94-2.06-.94 2.06-2.06.94z\"/><path d=\"M17.41 7.96l-1.37-1.37c-.4-.4-.92-.59-1.43-.59-.52 0-1.04.2-1.43.59L10.3 9.45l-7.72 7.72c-.78.78-.78 2.05 0 2.83L4 21.41c.39.39.9.59 1.41.59.51 0 1.02-.2 1.41-.59l7.78-7.78 2.81-2.81c.8-.78.8-2.07 0-2.86zM5.41 20L4 18.59l7.72-7.72 1.47 1.35L5.41 20z\"/>\n",
              "  </svg>\n",
              "      </button>\n",
              "      \n",
              "  <style>\n",
              "    .colab-df-container {\n",
              "      display:flex;\n",
              "      flex-wrap:wrap;\n",
              "      gap: 12px;\n",
              "    }\n",
              "\n",
              "    .colab-df-convert {\n",
              "      background-color: #E8F0FE;\n",
              "      border: none;\n",
              "      border-radius: 50%;\n",
              "      cursor: pointer;\n",
              "      display: none;\n",
              "      fill: #1967D2;\n",
              "      height: 32px;\n",
              "      padding: 0 0 0 0;\n",
              "      width: 32px;\n",
              "    }\n",
              "\n",
              "    .colab-df-convert:hover {\n",
              "      background-color: #E2EBFA;\n",
              "      box-shadow: 0px 1px 2px rgba(60, 64, 67, 0.3), 0px 1px 3px 1px rgba(60, 64, 67, 0.15);\n",
              "      fill: #174EA6;\n",
              "    }\n",
              "\n",
              "    [theme=dark] .colab-df-convert {\n",
              "      background-color: #3B4455;\n",
              "      fill: #D2E3FC;\n",
              "    }\n",
              "\n",
              "    [theme=dark] .colab-df-convert:hover {\n",
              "      background-color: #434B5C;\n",
              "      box-shadow: 0px 1px 3px 1px rgba(0, 0, 0, 0.15);\n",
              "      filter: drop-shadow(0px 1px 2px rgba(0, 0, 0, 0.3));\n",
              "      fill: #FFFFFF;\n",
              "    }\n",
              "  </style>\n",
              "\n",
              "      <script>\n",
              "        const buttonEl =\n",
              "          document.querySelector('#df-3ad3eaf2-5d81-4755-82b8-d357b5bdb66b button.colab-df-convert');\n",
              "        buttonEl.style.display =\n",
              "          google.colab.kernel.accessAllowed ? 'block' : 'none';\n",
              "\n",
              "        async function convertToInteractive(key) {\n",
              "          const element = document.querySelector('#df-3ad3eaf2-5d81-4755-82b8-d357b5bdb66b');\n",
              "          const dataTable =\n",
              "            await google.colab.kernel.invokeFunction('convertToInteractive',\n",
              "                                                     [key], {});\n",
              "          if (!dataTable) return;\n",
              "\n",
              "          const docLinkHtml = 'Like what you see? Visit the ' +\n",
              "            '<a target=\"_blank\" href=https://colab.research.google.com/notebooks/data_table.ipynb>data table notebook</a>'\n",
              "            + ' to learn more about interactive tables.';\n",
              "          element.innerHTML = '';\n",
              "          dataTable['output_type'] = 'display_data';\n",
              "          await google.colab.output.renderOutput(dataTable, element);\n",
              "          const docLink = document.createElement('div');\n",
              "          docLink.innerHTML = docLinkHtml;\n",
              "          element.appendChild(docLink);\n",
              "        }\n",
              "      </script>\n",
              "    </div>\n",
              "  </div>\n",
              "  "
            ]
          },
          "metadata": {},
          "execution_count": 992
        }
      ]
    },
    {
      "cell_type": "code",
      "source": [
        "\n",
        "df.isnull().sum().sort_values(ascending=False)"
      ],
      "metadata": {
        "colab": {
          "base_uri": "https://localhost:8080/"
        },
        "id": "Vb3Q7AFl-2Zy",
        "outputId": "5e90977e-2cbc-4106-9fc2-ae4b4084aaf7"
      },
      "execution_count": 993,
      "outputs": [
        {
          "output_type": "execute_result",
          "data": {
            "text/plain": [
              "Singer/Artists    10\n",
              "Album/Movie        3\n",
              "Song-Name          0\n",
              "Genre              0\n",
              "User-Rating        0\n",
              "dtype: int64"
            ]
          },
          "metadata": {},
          "execution_count": 993
        }
      ]
    },
    {
      "cell_type": "code",
      "source": [
        "df.Genre.unique()"
      ],
      "metadata": {
        "colab": {
          "base_uri": "https://localhost:8080/"
        },
        "id": "6GVkpNIXxx6Y",
        "outputId": "f522cd07-36de-40dd-df54-f44d2ce188bb"
      },
      "execution_count": 994,
      "outputs": [
        {
          "output_type": "execute_result",
          "data": {
            "text/plain": [
              "array(['BollywoodDance', 'BollywoodDanceRomantic', 'BollywoodRomantic',\n",
              "       'Bollywood', 'BollywoodDevotional', 'BollywoodRomanticSad',\n",
              "       'BollywoodDanceSad', 'BollywoodSad', 'BollywoodMotivational',\n",
              "       'BollywoodRomance', 'BollywoodSensual', 'BollywoodPatriotic',\n",
              "       'BollywoodRomanticSadSensual', 'BollywoodRomanticSensual',\n",
              "       'BollywoodDancePatriotic', 'BollywoodMotivationalPatriotic',\n",
              "       'BollywoodDanceSensual', 'BollywoodDevotionalSad',\n",
              "       'BollywoodDanceMotivationalPatriotic', 'BollywoodDanceRomance',\n",
              "       'BollywoodPatrioticSad'], dtype=object)"
            ]
          },
          "metadata": {},
          "execution_count": 994
        }
      ]
    },
    {
      "cell_type": "code",
      "source": [
        "def text_clboll(a):\n",
        "  a=a.split('Bollywood')\n",
        "  \n",
        "  return a[1]\n"
      ],
      "metadata": {
        "id": "DiyFQpeox7xy"
      },
      "execution_count": 995,
      "outputs": []
    },
    {
      "cell_type": "code",
      "source": [
        "df['Genre']=df['Genre'].apply(text_clboll)"
      ],
      "metadata": {
        "id": "BrX2b5QXzfYK"
      },
      "execution_count": 996,
      "outputs": []
    },
    {
      "cell_type": "code",
      "source": [
        "df['User-Rating'].unique()\n"
      ],
      "metadata": {
        "colab": {
          "base_uri": "https://localhost:8080/"
        },
        "id": "z-Oqs2Wg0MFS",
        "outputId": "390ae6b0-4d8c-4f9b-9387-2deafbd8076e"
      },
      "execution_count": 997,
      "outputs": [
        {
          "output_type": "execute_result",
          "data": {
            "text/plain": [
              "array(['8.8/10', '9.0/10', '9.7/10', '9.1/10', '9.2/10', '9.5/10',\n",
              "       '9.6/10', '8.4/10', '8.6/10', '9.4/10', '8.7/10', '9.3/10',\n",
              "       '8.5/10', '8.9/10', '8.1/10', '7.7/10', '9.8/10', '6.8/10',\n",
              "       '8.2/10', '9.9/10', '8.3/10', '7.2/10', '7.6/10', '7.5/10',\n",
              "       '7.9/10', '7.3/10', '7.4/10', '7.8/10', '8.0/10', '7.0/10',\n",
              "       '7.1/10', '6.9/10', '6.3/10', '5.8/10', '6.4/10', '10-Oct',\n",
              "       '09-Oct', '6.6/10'], dtype=object)"
            ]
          },
          "metadata": {},
          "execution_count": 997
        }
      ]
    },
    {
      "cell_type": "code",
      "source": [
        "df['User-Rating'] = df['User-Rating'].replace(['09-Oct'], np.NaN)\n",
        "df['User-Rating'] = df['User-Rating'].replace(['10-Oct'], np.NaN)\n"
      ],
      "metadata": {
        "id": "tLoUARYd1BTN"
      },
      "execution_count": 998,
      "outputs": []
    },
    {
      "cell_type": "code",
      "source": [
        "df['User-Rating'].unique()\n"
      ],
      "metadata": {
        "colab": {
          "base_uri": "https://localhost:8080/"
        },
        "id": "SGoudpgp20CP",
        "outputId": "34ca550b-e25d-4a11-df8e-9a3dbcf5254e"
      },
      "execution_count": 999,
      "outputs": [
        {
          "output_type": "execute_result",
          "data": {
            "text/plain": [
              "array(['8.8/10', '9.0/10', '9.7/10', '9.1/10', '9.2/10', '9.5/10',\n",
              "       '9.6/10', '8.4/10', '8.6/10', '9.4/10', '8.7/10', '9.3/10',\n",
              "       '8.5/10', '8.9/10', '8.1/10', '7.7/10', '9.8/10', '6.8/10',\n",
              "       '8.2/10', '9.9/10', '8.3/10', '7.2/10', '7.6/10', '7.5/10',\n",
              "       '7.9/10', '7.3/10', '7.4/10', '7.8/10', '8.0/10', '7.0/10',\n",
              "       '7.1/10', '6.9/10', '6.3/10', '5.8/10', '6.4/10', nan, '6.6/10'],\n",
              "      dtype=object)"
            ]
          },
          "metadata": {},
          "execution_count": 999
        }
      ]
    },
    {
      "cell_type": "code",
      "source": [
        "def rating_cl(a):\n",
        "  b=[]\n",
        "  try:\n",
        "    \n",
        "    a=a.split('/')\n",
        "    \n",
        "    return round(float(a[0]))\n",
        "  except:\n",
        "    pass"
      ],
      "metadata": {
        "id": "0ThvJ06A0ZDy"
      },
      "execution_count": 1000,
      "outputs": []
    },
    {
      "cell_type": "code",
      "source": [
        "df['User-Rating']=df['User-Rating'].apply(rating_cl)\n"
      ],
      "metadata": {
        "id": "S1SkFHmr0306"
      },
      "execution_count": 1001,
      "outputs": []
    },
    {
      "cell_type": "code",
      "source": [
        "df['User-Rating']"
      ],
      "metadata": {
        "colab": {
          "base_uri": "https://localhost:8080/"
        },
        "id": "gTYiht0Z8stg",
        "outputId": "233a577a-d9d1-47d4-d370-e2d32595eaac"
      },
      "execution_count": 1002,
      "outputs": [
        {
          "output_type": "execute_result",
          "data": {
            "text/plain": [
              "1        9.0\n",
              "2        9.0\n",
              "3       10.0\n",
              "4        9.0\n",
              "5        9.0\n",
              "        ... \n",
              "2416     NaN\n",
              "2417     NaN\n",
              "2418     NaN\n",
              "2419     NaN\n",
              "2420     7.0\n",
              "Name: User-Rating, Length: 2420, dtype: float64"
            ]
          },
          "metadata": {},
          "execution_count": 1002
        }
      ]
    },
    {
      "cell_type": "code",
      "source": [
        "df.info()"
      ],
      "metadata": {
        "colab": {
          "base_uri": "https://localhost:8080/"
        },
        "id": "0yKnCpDr5Gqf",
        "outputId": "8e0ebbd8-736b-491f-9b37-7f1370b83c08"
      },
      "execution_count": 1003,
      "outputs": [
        {
          "output_type": "stream",
          "name": "stdout",
          "text": [
            "<class 'pandas.core.frame.DataFrame'>\n",
            "Int64Index: 2420 entries, 1 to 2420\n",
            "Data columns (total 5 columns):\n",
            " #   Column          Non-Null Count  Dtype  \n",
            "---  ------          --------------  -----  \n",
            " 0   Song-Name       2420 non-null   object \n",
            " 1   Singer/Artists  2410 non-null   object \n",
            " 2   Genre           2420 non-null   object \n",
            " 3   Album/Movie     2417 non-null   object \n",
            " 4   User-Rating     2407 non-null   float64\n",
            "dtypes: float64(1), object(4)\n",
            "memory usage: 113.4+ KB\n"
          ]
        }
      ]
    },
    {
      "cell_type": "code",
      "source": [
        "df['User-Rating'].fillna(df['User-Rating'].mean(),inplace=True)"
      ],
      "metadata": {
        "id": "5-f6Wlm_1cbF"
      },
      "execution_count": 1004,
      "outputs": []
    },
    {
      "cell_type": "code",
      "source": [
        "df.columns"
      ],
      "metadata": {
        "colab": {
          "base_uri": "https://localhost:8080/"
        },
        "id": "DFQeHWKkzwad",
        "outputId": "11b76110-074d-421f-ac8d-18449e4291b1"
      },
      "execution_count": 1005,
      "outputs": [
        {
          "output_type": "execute_result",
          "data": {
            "text/plain": [
              "Index(['Song-Name', 'Singer/Artists', 'Genre', 'Album/Movie', 'User-Rating'], dtype='object')"
            ]
          },
          "metadata": {},
          "execution_count": 1005
        }
      ]
    },
    {
      "cell_type": "code",
      "source": [
        "def convert(a):\n",
        "  a=str(a)\n",
        "  return a"
      ],
      "metadata": {
        "id": "Jsx2Kj7j82ke"
      },
      "execution_count": 1006,
      "outputs": []
    },
    {
      "cell_type": "code",
      "source": [
        "df['User-Rating']=df['User-Rating'].apply(convert)"
      ],
      "metadata": {
        "id": "pYkWo0va6vFC"
      },
      "execution_count": 1007,
      "outputs": []
    },
    {
      "cell_type": "code",
      "source": [
        "df['final']=df['Singer/Artists']+' '+df['Genre']+' '+df['Album/Movie']+' '+df['User-Rating']"
      ],
      "metadata": {
        "id": "qLyntmRDznxS"
      },
      "execution_count": 1008,
      "outputs": []
    },
    {
      "cell_type": "code",
      "source": [
        "df.head()\n"
      ],
      "metadata": {
        "colab": {
          "base_uri": "https://localhost:8080/",
          "height": 206
        },
        "id": "dbOfBo8A6s6G",
        "outputId": "cd1e4df1-dbf5-43f1-8179-45ecdcfbd3d5"
      },
      "execution_count": 1009,
      "outputs": [
        {
          "output_type": "execute_result",
          "data": {
            "text/plain": [
              "          Song-Name                                    Singer/Artists  \\\n",
              "1       Aankh Marey               Kumar Sanu, Mika Singh, Neha Kakkar   \n",
              "2         Coca Cola                          Neha Kakkar, Tony Kakkar   \n",
              "3  Apna Time Aayega                                     Ranveer Singh   \n",
              "4            Mungda             Jyotica Tangri, Shaan, Subhro Ganguly   \n",
              "5          Tere Bin  Asees Kaur, Rahat Fateh Ali Khan, Tanishk Bagchi   \n",
              "\n",
              "           Genre    Album/Movie User-Rating  \\\n",
              "1          Dance         Simmba         9.0   \n",
              "2  DanceRomantic    Luka Chuppi         9.0   \n",
              "3          Dance      Gully Boy        10.0   \n",
              "4          Dance  Total Dhamaal         9.0   \n",
              "5       Romantic         Simmba         9.0   \n",
              "\n",
              "                                               final  \n",
              "1  Kumar Sanu, Mika Singh, Neha Kakkar Dance Simm...  \n",
              "2  Neha Kakkar, Tony Kakkar DanceRomantic Luka Ch...  \n",
              "3                 Ranveer Singh Dance Gully Boy 10.0  \n",
              "4  Jyotica Tangri, Shaan, Subhro Ganguly Dance To...  \n",
              "5  Asees Kaur, Rahat Fateh Ali Khan, Tanishk Bagc...  "
            ],
            "text/html": [
              "\n",
              "  <div id=\"df-e3046a1c-b133-45b4-8775-cac14ac8eb8b\">\n",
              "    <div class=\"colab-df-container\">\n",
              "      <div>\n",
              "<style scoped>\n",
              "    .dataframe tbody tr th:only-of-type {\n",
              "        vertical-align: middle;\n",
              "    }\n",
              "\n",
              "    .dataframe tbody tr th {\n",
              "        vertical-align: top;\n",
              "    }\n",
              "\n",
              "    .dataframe thead th {\n",
              "        text-align: right;\n",
              "    }\n",
              "</style>\n",
              "<table border=\"1\" class=\"dataframe\">\n",
              "  <thead>\n",
              "    <tr style=\"text-align: right;\">\n",
              "      <th></th>\n",
              "      <th>Song-Name</th>\n",
              "      <th>Singer/Artists</th>\n",
              "      <th>Genre</th>\n",
              "      <th>Album/Movie</th>\n",
              "      <th>User-Rating</th>\n",
              "      <th>final</th>\n",
              "    </tr>\n",
              "  </thead>\n",
              "  <tbody>\n",
              "    <tr>\n",
              "      <th>1</th>\n",
              "      <td>Aankh Marey</td>\n",
              "      <td>Kumar Sanu, Mika Singh, Neha Kakkar</td>\n",
              "      <td>Dance</td>\n",
              "      <td>Simmba</td>\n",
              "      <td>9.0</td>\n",
              "      <td>Kumar Sanu, Mika Singh, Neha Kakkar Dance Simm...</td>\n",
              "    </tr>\n",
              "    <tr>\n",
              "      <th>2</th>\n",
              "      <td>Coca Cola</td>\n",
              "      <td>Neha Kakkar, Tony Kakkar</td>\n",
              "      <td>DanceRomantic</td>\n",
              "      <td>Luka Chuppi</td>\n",
              "      <td>9.0</td>\n",
              "      <td>Neha Kakkar, Tony Kakkar DanceRomantic Luka Ch...</td>\n",
              "    </tr>\n",
              "    <tr>\n",
              "      <th>3</th>\n",
              "      <td>Apna Time Aayega</td>\n",
              "      <td>Ranveer Singh</td>\n",
              "      <td>Dance</td>\n",
              "      <td>Gully Boy</td>\n",
              "      <td>10.0</td>\n",
              "      <td>Ranveer Singh Dance Gully Boy 10.0</td>\n",
              "    </tr>\n",
              "    <tr>\n",
              "      <th>4</th>\n",
              "      <td>Mungda</td>\n",
              "      <td>Jyotica Tangri, Shaan, Subhro Ganguly</td>\n",
              "      <td>Dance</td>\n",
              "      <td>Total Dhamaal</td>\n",
              "      <td>9.0</td>\n",
              "      <td>Jyotica Tangri, Shaan, Subhro Ganguly Dance To...</td>\n",
              "    </tr>\n",
              "    <tr>\n",
              "      <th>5</th>\n",
              "      <td>Tere Bin</td>\n",
              "      <td>Asees Kaur, Rahat Fateh Ali Khan, Tanishk Bagchi</td>\n",
              "      <td>Romantic</td>\n",
              "      <td>Simmba</td>\n",
              "      <td>9.0</td>\n",
              "      <td>Asees Kaur, Rahat Fateh Ali Khan, Tanishk Bagc...</td>\n",
              "    </tr>\n",
              "  </tbody>\n",
              "</table>\n",
              "</div>\n",
              "      <button class=\"colab-df-convert\" onclick=\"convertToInteractive('df-e3046a1c-b133-45b4-8775-cac14ac8eb8b')\"\n",
              "              title=\"Convert this dataframe to an interactive table.\"\n",
              "              style=\"display:none;\">\n",
              "        \n",
              "  <svg xmlns=\"http://www.w3.org/2000/svg\" height=\"24px\"viewBox=\"0 0 24 24\"\n",
              "       width=\"24px\">\n",
              "    <path d=\"M0 0h24v24H0V0z\" fill=\"none\"/>\n",
              "    <path d=\"M18.56 5.44l.94 2.06.94-2.06 2.06-.94-2.06-.94-.94-2.06-.94 2.06-2.06.94zm-11 1L8.5 8.5l.94-2.06 2.06-.94-2.06-.94L8.5 2.5l-.94 2.06-2.06.94zm10 10l.94 2.06.94-2.06 2.06-.94-2.06-.94-.94-2.06-.94 2.06-2.06.94z\"/><path d=\"M17.41 7.96l-1.37-1.37c-.4-.4-.92-.59-1.43-.59-.52 0-1.04.2-1.43.59L10.3 9.45l-7.72 7.72c-.78.78-.78 2.05 0 2.83L4 21.41c.39.39.9.59 1.41.59.51 0 1.02-.2 1.41-.59l7.78-7.78 2.81-2.81c.8-.78.8-2.07 0-2.86zM5.41 20L4 18.59l7.72-7.72 1.47 1.35L5.41 20z\"/>\n",
              "  </svg>\n",
              "      </button>\n",
              "      \n",
              "  <style>\n",
              "    .colab-df-container {\n",
              "      display:flex;\n",
              "      flex-wrap:wrap;\n",
              "      gap: 12px;\n",
              "    }\n",
              "\n",
              "    .colab-df-convert {\n",
              "      background-color: #E8F0FE;\n",
              "      border: none;\n",
              "      border-radius: 50%;\n",
              "      cursor: pointer;\n",
              "      display: none;\n",
              "      fill: #1967D2;\n",
              "      height: 32px;\n",
              "      padding: 0 0 0 0;\n",
              "      width: 32px;\n",
              "    }\n",
              "\n",
              "    .colab-df-convert:hover {\n",
              "      background-color: #E2EBFA;\n",
              "      box-shadow: 0px 1px 2px rgba(60, 64, 67, 0.3), 0px 1px 3px 1px rgba(60, 64, 67, 0.15);\n",
              "      fill: #174EA6;\n",
              "    }\n",
              "\n",
              "    [theme=dark] .colab-df-convert {\n",
              "      background-color: #3B4455;\n",
              "      fill: #D2E3FC;\n",
              "    }\n",
              "\n",
              "    [theme=dark] .colab-df-convert:hover {\n",
              "      background-color: #434B5C;\n",
              "      box-shadow: 0px 1px 3px 1px rgba(0, 0, 0, 0.15);\n",
              "      filter: drop-shadow(0px 1px 2px rgba(0, 0, 0, 0.3));\n",
              "      fill: #FFFFFF;\n",
              "    }\n",
              "  </style>\n",
              "\n",
              "      <script>\n",
              "        const buttonEl =\n",
              "          document.querySelector('#df-e3046a1c-b133-45b4-8775-cac14ac8eb8b button.colab-df-convert');\n",
              "        buttonEl.style.display =\n",
              "          google.colab.kernel.accessAllowed ? 'block' : 'none';\n",
              "\n",
              "        async function convertToInteractive(key) {\n",
              "          const element = document.querySelector('#df-e3046a1c-b133-45b4-8775-cac14ac8eb8b');\n",
              "          const dataTable =\n",
              "            await google.colab.kernel.invokeFunction('convertToInteractive',\n",
              "                                                     [key], {});\n",
              "          if (!dataTable) return;\n",
              "\n",
              "          const docLinkHtml = 'Like what you see? Visit the ' +\n",
              "            '<a target=\"_blank\" href=https://colab.research.google.com/notebooks/data_table.ipynb>data table notebook</a>'\n",
              "            + ' to learn more about interactive tables.';\n",
              "          element.innerHTML = '';\n",
              "          dataTable['output_type'] = 'display_data';\n",
              "          await google.colab.output.renderOutput(dataTable, element);\n",
              "          const docLink = document.createElement('div');\n",
              "          docLink.innerHTML = docLinkHtml;\n",
              "          element.appendChild(docLink);\n",
              "        }\n",
              "      </script>\n",
              "    </div>\n",
              "  </div>\n",
              "  "
            ]
          },
          "metadata": {},
          "execution_count": 1009
        }
      ]
    },
    {
      "cell_type": "code",
      "source": [
        "df=df.dropna()"
      ],
      "metadata": {
        "id": "CJ2AOgVoEMqG"
      },
      "execution_count": 1010,
      "outputs": []
    },
    {
      "cell_type": "code",
      "source": [
        "words = df.final"
      ],
      "metadata": {
        "id": "6KNzM7FS9-M0"
      },
      "execution_count": 1011,
      "outputs": []
    },
    {
      "cell_type": "code",
      "source": [
        "df.final.iloc[0]"
      ],
      "metadata": {
        "colab": {
          "base_uri": "https://localhost:8080/",
          "height": 36
        },
        "id": "7zngD_EvCPK2",
        "outputId": "6aa8b50a-f1c6-4f6c-83fe-d00b59c7bee2"
      },
      "execution_count": 1012,
      "outputs": [
        {
          "output_type": "execute_result",
          "data": {
            "text/plain": [
              "'Kumar Sanu, Mika Singh, Neha Kakkar Dance Simmba 9.0'"
            ],
            "application/vnd.google.colaboratory.intrinsic+json": {
              "type": "string"
            }
          },
          "metadata": {},
          "execution_count": 1012
        }
      ]
    },
    {
      "cell_type": "code",
      "source": [
        "words"
      ],
      "metadata": {
        "colab": {
          "base_uri": "https://localhost:8080/"
        },
        "id": "70wNt1o9-VOT",
        "outputId": "536a3a15-5ecb-495e-cab5-e148ddff2819"
      },
      "execution_count": 1013,
      "outputs": [
        {
          "output_type": "execute_result",
          "data": {
            "text/plain": [
              "1       Kumar Sanu, Mika Singh, Neha Kakkar Dance Simm...\n",
              "2       Neha Kakkar, Tony Kakkar DanceRomantic Luka Ch...\n",
              "3                      Ranveer Singh Dance Gully Boy 10.0\n",
              "4       Jyotica Tangri, Shaan, Subhro Ganguly Dance To...\n",
              "5       Asees Kaur, Rahat Fateh Ali Khan, Tanishk Bagc...\n",
              "                              ...                        \n",
              "2416               Mukesh Dance Sasural 9.069796427087661\n",
              "2417    Lata Mangeshkar Dance Jab Pyar Kisi Se Hota Ha...\n",
              "2418    Lata Mangeshkar, Suresh Wadkar Dance Lamhe 9.0...\n",
              "2419    Jagjit Kaur Dance Shola Aur Shabnam 9.06979642...\n",
              "2420              Asha Bhosle Dance Shola Aur Shabnam 7.0\n",
              "Name: final, Length: 2407, dtype: object"
            ]
          },
          "metadata": {},
          "execution_count": 1013
        }
      ]
    },
    {
      "cell_type": "code",
      "source": [
        "df.isnull().sum()"
      ],
      "metadata": {
        "colab": {
          "base_uri": "https://localhost:8080/"
        },
        "id": "ENJCHu9zEeka",
        "outputId": "357ca444-b472-4f23-e782-b10436af0cdf"
      },
      "execution_count": 1014,
      "outputs": [
        {
          "output_type": "execute_result",
          "data": {
            "text/plain": [
              "Song-Name         0\n",
              "Singer/Artists    0\n",
              "Genre             0\n",
              "Album/Movie       0\n",
              "User-Rating       0\n",
              "final             0\n",
              "dtype: int64"
            ]
          },
          "metadata": {},
          "execution_count": 1014
        }
      ]
    },
    {
      "cell_type": "code",
      "execution_count": 1015,
      "metadata": {
        "id": "ZkxDjmyJGKHF"
      },
      "outputs": [],
      "source": [
        "#using tfidf\n",
        "from sklearn.feature_extraction.text import TfidfVectorizer\n",
        "t_vectorizer = TfidfVectorizer(ngram_range=(1, 3),min_df = 3, max_features=None,analyzer='word')\n"
      ]
    },
    {
      "cell_type": "code",
      "source": [
        "X= t_vectorizer.fit_transform(words)"
      ],
      "metadata": {
        "id": "R8o7bgvk9uQf"
      },
      "execution_count": 1016,
      "outputs": []
    },
    {
      "cell_type": "code",
      "execution_count": 1017,
      "metadata": {
        "colab": {
          "base_uri": "https://localhost:8080/"
        },
        "id": "HEZ_5rblGS9D",
        "outputId": "2edb02b3-1390-4448-f6e3-fe166326f9fc"
      },
      "outputs": [
        {
          "output_type": "execute_result",
          "data": {
            "text/plain": [
              "<2407x2896 sparse matrix of type '<class 'numpy.float64'>'\n",
              "\twith 28251 stored elements in Compressed Sparse Row format>"
            ]
          },
          "metadata": {},
          "execution_count": 1017
        }
      ],
      "source": [
        "X"
      ]
    },
    {
      "cell_type": "code",
      "execution_count": 1018,
      "metadata": {
        "colab": {
          "base_uri": "https://localhost:8080/"
        },
        "id": "N8gRmH098sUf",
        "outputId": "d0151b14-1c90-4892-ed01-d97f3451d9bc"
      },
      "outputs": [
        {
          "output_type": "execute_result",
          "data": {
            "text/plain": [
              "(2407, 2896)"
            ]
          },
          "metadata": {},
          "execution_count": 1018
        }
      ],
      "source": [
        "X.shape"
      ]
    },
    {
      "cell_type": "code",
      "execution_count": 1019,
      "metadata": {
        "id": "GOPHFo2O8zlb"
      },
      "outputs": [],
      "source": [
        "from sklearn.metrics.pairwise import sigmoid_kernel\n",
        "sig=sigmoid_kernel(X,X)"
      ]
    },
    {
      "cell_type": "code",
      "execution_count": 1020,
      "metadata": {
        "colab": {
          "base_uri": "https://localhost:8080/"
        },
        "id": "Re-AP9_f9IMx",
        "outputId": "d48e01b9-53a3-4de1-dd56-b8c5fa64f8f5"
      },
      "outputs": [
        {
          "output_type": "execute_result",
          "data": {
            "text/plain": [
              "array([[0.76173914, 0.76163643, 0.76159883, ..., 0.76159541, 0.76159532,\n",
              "        0.76159534],\n",
              "       [0.76163643, 0.76173914, 0.76159416, ..., 0.76159416, 0.76159416,\n",
              "        0.76159416],\n",
              "       [0.76159883, 0.76159416, 0.76173914, ..., 0.76159491, 0.76159486,\n",
              "        0.76159487],\n",
              "       ...,\n",
              "       [0.76159541, 0.76159416, 0.76159491, ..., 0.76173914, 0.76160603,\n",
              "        0.761595  ],\n",
              "       [0.76159532, 0.76159416, 0.76159486, ..., 0.76160603, 0.76173914,\n",
              "        0.76170405],\n",
              "       [0.76159534, 0.76159416, 0.76159487, ..., 0.761595  , 0.76170405,\n",
              "        0.76173914]])"
            ]
          },
          "metadata": {},
          "execution_count": 1020
        }
      ],
      "source": [
        "sig"
      ]
    },
    {
      "cell_type": "code",
      "execution_count": 1021,
      "metadata": {
        "id": "DrP3a1knBk8l"
      },
      "outputs": [],
      "source": [
        "# vectorizing the test and train\n",
        "X_vectorized = t_vectorizer.transform(words)\n"
      ]
    },
    {
      "cell_type": "code",
      "execution_count": 1022,
      "metadata": {
        "id": "TjQGHGlqBk8m"
      },
      "outputs": [],
      "source": [
        "X=X.toarray()"
      ]
    },
    {
      "cell_type": "code",
      "source": [
        "indices=pd.Series(df.index,index=df['Song-Name']).drop_duplicates()"
      ],
      "metadata": {
        "id": "hJ1tKEjbFcpF"
      },
      "execution_count": 1023,
      "outputs": []
    },
    {
      "cell_type": "code",
      "execution_count": 1024,
      "metadata": {
        "id": "nTxLkd8EA8pJ"
      },
      "outputs": [],
      "source": [
        "def recc(title,sig=sig):\n",
        "  idx=indices[title]\n",
        "  sig_score=list(enumerate(sig[idx]))\n",
        "  sig_score=sorted(sig_score,key=lambda x : x[1],reverse=True)\n",
        "  sig_score=sig_score[1:11]\n",
        "  mov_ind=[i[0] for i in sig_score]\n",
        "  return df[['Song-Name','Singer/Artists','Genre','Album/Movie','User-Rating']].iloc[mov_ind]"
      ]
    },
    {
      "cell_type": "code",
      "execution_count": 1025,
      "metadata": {
        "colab": {
          "base_uri": "https://localhost:8080/"
        },
        "id": "yVIxXNCsA8lh",
        "outputId": "82773342-ee96-4277-c3b8-30400d64ed42"
      },
      "outputs": [
        {
          "output_type": "execute_result",
          "data": {
            "text/plain": [
              "array(['Aankh Marey', 'Coca Cola', 'Apna Time Aayega', ...,\n",
              "       'O Yaad Nahi Bhool Gaya', 'Ladi Re Ladi Tujhse Aankh Jo Ladi',\n",
              "       'Mummy Aur Daddy Mein Ladai Ho Gayi'], dtype=object)"
            ]
          },
          "metadata": {},
          "execution_count": 1025
        }
      ],
      "source": [
        "df['Song-Name'].unique()"
      ]
    },
    {
      "cell_type": "code",
      "source": [
        "recc(\"Namo Namo\")"
      ],
      "metadata": {
        "colab": {
          "base_uri": "https://localhost:8080/",
          "height": 363
        },
        "id": "JU25OHItE8tI",
        "outputId": "4762615f-aad0-40ef-8b81-ea99da1e0abe"
      },
      "execution_count": 1026,
      "outputs": [
        {
          "output_type": "execute_result",
          "data": {
            "text/plain": [
              "                 Song-Name                                     Singer/Artists  \\\n",
              "67             Jaan Nisaar                                       Arijit Singh   \n",
              "208                 Raabta                                     Nikhita Gandhi   \n",
              "253         Ullu ka Pattha                       Arijit Singh, Nikhita Gandhi   \n",
              "437  Ittefaq Se Raat Baaki                     Jubin Nautiyal, Nikhita Gandhi   \n",
              "44               Namo Namo                                       Amit Trivedi   \n",
              "310        Chota Sa Fasana                                       Arijit Singh   \n",
              "219                Aahista                        Arijit Singh, Jonita Gandhi   \n",
              "260          Dhayaan Chand  Amit Trivedi, Nikhita Gandhi, Suhas Sawant, Vi...   \n",
              "995             Bas Tu Hai                        Arijit Singh, Jonita Gandhi   \n",
              "39     Aao Kabhi Haveli Pe     Badshah, Jigar, Nikhita Gandhi, Sachin Sanghvi   \n",
              "\n",
              "           Genre   Album/Movie User-Rating  \n",
              "67      Romantic     Kedarnath        10.0  \n",
              "208     Romantic        Raabta         9.0  \n",
              "253               Jagga Jasoos         9.0  \n",
              "437        Dance       Ittefaq         9.0  \n",
              "44    Devotional     Kedarnath        10.0  \n",
              "310                    Karwaan        10.0  \n",
              "219     Romantic   Laila Majnu         9.0  \n",
              "260        Dance  Manmarziyaan         9.0  \n",
              "995  RomanticSad     3 Storeys         9.0  \n",
              "39         Dance         Stree         8.0  "
            ],
            "text/html": [
              "\n",
              "  <div id=\"df-84b51a6a-8269-42ab-855f-d9988b2c1994\">\n",
              "    <div class=\"colab-df-container\">\n",
              "      <div>\n",
              "<style scoped>\n",
              "    .dataframe tbody tr th:only-of-type {\n",
              "        vertical-align: middle;\n",
              "    }\n",
              "\n",
              "    .dataframe tbody tr th {\n",
              "        vertical-align: top;\n",
              "    }\n",
              "\n",
              "    .dataframe thead th {\n",
              "        text-align: right;\n",
              "    }\n",
              "</style>\n",
              "<table border=\"1\" class=\"dataframe\">\n",
              "  <thead>\n",
              "    <tr style=\"text-align: right;\">\n",
              "      <th></th>\n",
              "      <th>Song-Name</th>\n",
              "      <th>Singer/Artists</th>\n",
              "      <th>Genre</th>\n",
              "      <th>Album/Movie</th>\n",
              "      <th>User-Rating</th>\n",
              "    </tr>\n",
              "  </thead>\n",
              "  <tbody>\n",
              "    <tr>\n",
              "      <th>67</th>\n",
              "      <td>Jaan Nisaar</td>\n",
              "      <td>Arijit Singh</td>\n",
              "      <td>Romantic</td>\n",
              "      <td>Kedarnath</td>\n",
              "      <td>10.0</td>\n",
              "    </tr>\n",
              "    <tr>\n",
              "      <th>208</th>\n",
              "      <td>Raabta</td>\n",
              "      <td>Nikhita Gandhi</td>\n",
              "      <td>Romantic</td>\n",
              "      <td>Raabta</td>\n",
              "      <td>9.0</td>\n",
              "    </tr>\n",
              "    <tr>\n",
              "      <th>253</th>\n",
              "      <td>Ullu ka Pattha</td>\n",
              "      <td>Arijit Singh, Nikhita Gandhi</td>\n",
              "      <td></td>\n",
              "      <td>Jagga Jasoos</td>\n",
              "      <td>9.0</td>\n",
              "    </tr>\n",
              "    <tr>\n",
              "      <th>437</th>\n",
              "      <td>Ittefaq Se Raat Baaki</td>\n",
              "      <td>Jubin Nautiyal, Nikhita Gandhi</td>\n",
              "      <td>Dance</td>\n",
              "      <td>Ittefaq</td>\n",
              "      <td>9.0</td>\n",
              "    </tr>\n",
              "    <tr>\n",
              "      <th>44</th>\n",
              "      <td>Namo Namo</td>\n",
              "      <td>Amit Trivedi</td>\n",
              "      <td>Devotional</td>\n",
              "      <td>Kedarnath</td>\n",
              "      <td>10.0</td>\n",
              "    </tr>\n",
              "    <tr>\n",
              "      <th>310</th>\n",
              "      <td>Chota Sa Fasana</td>\n",
              "      <td>Arijit Singh</td>\n",
              "      <td></td>\n",
              "      <td>Karwaan</td>\n",
              "      <td>10.0</td>\n",
              "    </tr>\n",
              "    <tr>\n",
              "      <th>219</th>\n",
              "      <td>Aahista</td>\n",
              "      <td>Arijit Singh, Jonita Gandhi</td>\n",
              "      <td>Romantic</td>\n",
              "      <td>Laila Majnu</td>\n",
              "      <td>9.0</td>\n",
              "    </tr>\n",
              "    <tr>\n",
              "      <th>260</th>\n",
              "      <td>Dhayaan Chand</td>\n",
              "      <td>Amit Trivedi, Nikhita Gandhi, Suhas Sawant, Vi...</td>\n",
              "      <td>Dance</td>\n",
              "      <td>Manmarziyaan</td>\n",
              "      <td>9.0</td>\n",
              "    </tr>\n",
              "    <tr>\n",
              "      <th>995</th>\n",
              "      <td>Bas Tu Hai</td>\n",
              "      <td>Arijit Singh, Jonita Gandhi</td>\n",
              "      <td>RomanticSad</td>\n",
              "      <td>3 Storeys</td>\n",
              "      <td>9.0</td>\n",
              "    </tr>\n",
              "    <tr>\n",
              "      <th>39</th>\n",
              "      <td>Aao Kabhi Haveli Pe</td>\n",
              "      <td>Badshah, Jigar, Nikhita Gandhi, Sachin Sanghvi</td>\n",
              "      <td>Dance</td>\n",
              "      <td>Stree</td>\n",
              "      <td>8.0</td>\n",
              "    </tr>\n",
              "  </tbody>\n",
              "</table>\n",
              "</div>\n",
              "      <button class=\"colab-df-convert\" onclick=\"convertToInteractive('df-84b51a6a-8269-42ab-855f-d9988b2c1994')\"\n",
              "              title=\"Convert this dataframe to an interactive table.\"\n",
              "              style=\"display:none;\">\n",
              "        \n",
              "  <svg xmlns=\"http://www.w3.org/2000/svg\" height=\"24px\"viewBox=\"0 0 24 24\"\n",
              "       width=\"24px\">\n",
              "    <path d=\"M0 0h24v24H0V0z\" fill=\"none\"/>\n",
              "    <path d=\"M18.56 5.44l.94 2.06.94-2.06 2.06-.94-2.06-.94-.94-2.06-.94 2.06-2.06.94zm-11 1L8.5 8.5l.94-2.06 2.06-.94-2.06-.94L8.5 2.5l-.94 2.06-2.06.94zm10 10l.94 2.06.94-2.06 2.06-.94-2.06-.94-.94-2.06-.94 2.06-2.06.94z\"/><path d=\"M17.41 7.96l-1.37-1.37c-.4-.4-.92-.59-1.43-.59-.52 0-1.04.2-1.43.59L10.3 9.45l-7.72 7.72c-.78.78-.78 2.05 0 2.83L4 21.41c.39.39.9.59 1.41.59.51 0 1.02-.2 1.41-.59l7.78-7.78 2.81-2.81c.8-.78.8-2.07 0-2.86zM5.41 20L4 18.59l7.72-7.72 1.47 1.35L5.41 20z\"/>\n",
              "  </svg>\n",
              "      </button>\n",
              "      \n",
              "  <style>\n",
              "    .colab-df-container {\n",
              "      display:flex;\n",
              "      flex-wrap:wrap;\n",
              "      gap: 12px;\n",
              "    }\n",
              "\n",
              "    .colab-df-convert {\n",
              "      background-color: #E8F0FE;\n",
              "      border: none;\n",
              "      border-radius: 50%;\n",
              "      cursor: pointer;\n",
              "      display: none;\n",
              "      fill: #1967D2;\n",
              "      height: 32px;\n",
              "      padding: 0 0 0 0;\n",
              "      width: 32px;\n",
              "    }\n",
              "\n",
              "    .colab-df-convert:hover {\n",
              "      background-color: #E2EBFA;\n",
              "      box-shadow: 0px 1px 2px rgba(60, 64, 67, 0.3), 0px 1px 3px 1px rgba(60, 64, 67, 0.15);\n",
              "      fill: #174EA6;\n",
              "    }\n",
              "\n",
              "    [theme=dark] .colab-df-convert {\n",
              "      background-color: #3B4455;\n",
              "      fill: #D2E3FC;\n",
              "    }\n",
              "\n",
              "    [theme=dark] .colab-df-convert:hover {\n",
              "      background-color: #434B5C;\n",
              "      box-shadow: 0px 1px 3px 1px rgba(0, 0, 0, 0.15);\n",
              "      filter: drop-shadow(0px 1px 2px rgba(0, 0, 0, 0.3));\n",
              "      fill: #FFFFFF;\n",
              "    }\n",
              "  </style>\n",
              "\n",
              "      <script>\n",
              "        const buttonEl =\n",
              "          document.querySelector('#df-84b51a6a-8269-42ab-855f-d9988b2c1994 button.colab-df-convert');\n",
              "        buttonEl.style.display =\n",
              "          google.colab.kernel.accessAllowed ? 'block' : 'none';\n",
              "\n",
              "        async function convertToInteractive(key) {\n",
              "          const element = document.querySelector('#df-84b51a6a-8269-42ab-855f-d9988b2c1994');\n",
              "          const dataTable =\n",
              "            await google.colab.kernel.invokeFunction('convertToInteractive',\n",
              "                                                     [key], {});\n",
              "          if (!dataTable) return;\n",
              "\n",
              "          const docLinkHtml = 'Like what you see? Visit the ' +\n",
              "            '<a target=\"_blank\" href=https://colab.research.google.com/notebooks/data_table.ipynb>data table notebook</a>'\n",
              "            + ' to learn more about interactive tables.';\n",
              "          element.innerHTML = '';\n",
              "          dataTable['output_type'] = 'display_data';\n",
              "          await google.colab.output.renderOutput(dataTable, element);\n",
              "          const docLink = document.createElement('div');\n",
              "          docLink.innerHTML = docLinkHtml;\n",
              "          element.appendChild(docLink);\n",
              "        }\n",
              "      </script>\n",
              "    </div>\n",
              "  </div>\n",
              "  "
            ]
          },
          "metadata": {},
          "execution_count": 1026
        }
      ]
    }
  ]
}